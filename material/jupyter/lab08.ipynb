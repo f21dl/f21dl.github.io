{
  "nbformat": 4,
  "nbformat_minor": 0,
  "metadata": {
    "colab": {
      "provenance": []
    },
    "kernelspec": {
      "name": "python3",
      "display_name": "Python 3"
    },
    "language_info": {
      "name": "python"
    }
  },
  "cells": [
    {
      "cell_type": "markdown",
      "source": [
        "# Decision Tree, Linear Regression and Logistic Regression \n",
        " \n",
        "You can download the file locally, or you can view it on (modified version with Gini-Entropy -regularization parameters) Google Colab [Link](https://colab.research.google.com/drive/1a7ZfYvTSju41AXrEX5570-dFT8zGwVpH?usp=sharing)\n",
        "\n",
        "\n",
        "\n",
        "Decision Tree and Logistic Regression.ipynb [Link](https://github.com/ageron/handson-ml2/blob/master/06_decision_trees.ipynb)\n",
        "\n",
        "P5_Decision_Tree_and_Logistic_Regression-2.ipynb [Link](https://github.com/ageron/handson-ml2/blob/master/04_training_linear_models.ipynb)"
      ],
      "metadata": {
        "id": "cOQTQKAOgcur"
      }
    }
  ]
}