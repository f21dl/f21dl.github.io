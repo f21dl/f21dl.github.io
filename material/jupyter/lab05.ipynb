{
  "nbformat": 4,
  "nbformat_minor": 0,
  "metadata": {
    "colab": {
      "provenance": []
    },
    "kernelspec": {
      "name": "python3",
      "display_name": "Python 3"
    },
    "language_info": {
      "name": "python"
    }
  },
  "cells": [
    {
      "cell_type": "code",
      "execution_count": null,
      "metadata": {
        "id": "-Tw2_3VMezRd"
      },
      "outputs": [],
      "source": []
    },
    {
      "cell_type": "markdown",
      "source": [
        "# Classifiers and Advanced Features\n",
        "\n",
        "In this tutorial you will continue  working with the housing data set (P1).\n",
        "\n",
        "You will learn important Scikit-Learn functions for :\n",
        "* Train/test splits , data stratification & cross validation\n",
        "* Training and prediction with different models (Linear regressors, DecisionsTrees, Random forest, SVM)\n",
        "* Features scaling \n",
        "* Pipelines for data processing\n",
        "* Hyper-parameter tuning & Grid search \n",
        "\n",
        " \n",
        "\n",
        "**Reference:** Chapter 2 - Hands-On Machine Learning, Aurelien Geron [Chapter 2 End-to End Machine learning](https://github.com/ageron/handson-ml2/blob/master/02_end_to_end_machine_learning_project.ipynb)\n",
        "\n",
        "\n",
        "\n",
        "Useful Links to get started with Scikit-Learn \n",
        "* Documentation of Scikit-Learn [Link](https://scikit-learn.org/stable/index.html)\n"
      ],
      "metadata": {
        "id": "thlw3BX-ezqd"
      }
    }
  ]
}