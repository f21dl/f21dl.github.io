{
  "nbformat": 4,
  "nbformat_minor": 0,
  "metadata": {
    "colab": {
      "provenance": []
    },
    "kernelspec": {
      "name": "python3",
      "display_name": "Python 3"
    },
    "language_info": {
      "name": "python"
    }
  },
  "cells": [
    {
      "cell_type": "code",
      "execution_count": null,
      "metadata": {
        "id": "iWGIqFUqdEIN"
      },
      "outputs": [],
      "source": []
    },
    {
      "cell_type": "markdown",
      "source": [
        "# Getting Started with Scikit-Learn (Weeks 3- 4) \n",
        "\n",
        "Description\n",
        "\n",
        "In this week we start by introducing basic functions of Scikit-learn.Part I deals with viewing and basic preprocessing of image data. Part II presents a typical work flow for a ML project.\n",
        "\n",
        "## Part I: Image data set (MNist) - Preprocessing of image data  \n",
        "\n",
        "## Part II: End to End ML project (I)\n",
        "\n",
        "* Prepare data, train model, score and present solution \n",
        "* Cross-validation \n",
        "* Evaluation metrics (accuracy, precision , recall, F1) \n",
        "* Confusion Matrix \n",
        "\n",
        " \n",
        "\n",
        "Reference: Chapter 3 [ Hands-On Machine Learning, Aurelien Geron ](https://github.com/ageron/handson-ml2/blob/master/03_classification.ipynb)\n",
        "\n",
        "\n",
        " \n",
        "\n",
        "Useful Links to get stated with Scikit-Learn:\n",
        "* Documentation of Scikit-Learn [Link](https://scikit-learn.org/stable/index.html)\n",
        "* Tutorial on Machine Learning with Python [Link](https://www.tutorialspoint.com/machine_learning_with_python/index.htm)\n"
      ],
      "metadata": {
        "id": "mWe_tYKldE72"
      }
    }
  ]
}