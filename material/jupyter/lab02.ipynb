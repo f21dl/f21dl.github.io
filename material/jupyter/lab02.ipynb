{
  "nbformat": 4,
  "nbformat_minor": 0,
  "metadata": {
    "colab": {
      "provenance": []
    },
    "kernelspec": {
      "name": "python3",
      "display_name": "Python 3"
    },
    "language_info": {
      "name": "python"
    }
  },
  "cells": [
    {
      "cell_type": "markdown",
      "source": [
        "## Data Exploration and Visualization (Getting to know your data) \n",
        "\n",
        "Description\n",
        "\n",
        "Here you will learn to **explore your data**. In particular you will learn to:\n",
        "\n",
        "* Load the data and find attribute information\n",
        "* Generate a statistical summary \n",
        "* Generate correlation matrix and scatter plot\n",
        "* Dealing with Categorical data\n",
        "* Dealing with Missing values\n",
        "* Find most correlated attributes to output label\n",
        "\n",
        "**Reference** :  Chapter 2 End-to End Machine learningLinks to an external site. [ Hands-On Machine Learning, Aurelien Geron ](https://github.com/ageron/handson-ml2/blob/master/02_end_to_end_machine_learning_project.ipynb)"
      ],
      "metadata": {
        "id": "c2cD22FbUotL"
      }
    }
  ]
}