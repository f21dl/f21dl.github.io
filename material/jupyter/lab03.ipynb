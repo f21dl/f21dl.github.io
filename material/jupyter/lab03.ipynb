{
  "nbformat": 4,
  "nbformat_minor": 0,
  "metadata": {
    "colab": {
      "provenance": []
    },
    "kernelspec": {
      "name": "python3",
      "display_name": "Python 3"
    },
    "language_info": {
      "name": "python"
    }
  },
  "cells": [
    {
      "cell_type": "code",
      "execution_count": null,
      "metadata": {
        "id": "inFAADfLVnAX"
      },
      "outputs": [],
      "source": []
    },
    {
      "cell_type": "markdown",
      "source": [
        "# Image Processing in Python\n",
        "This page tells more about loading and processing images in Python. It is only relevant if you use **image data sets**.\n",
        "\n",
        "The python file \"image_preprocessing_tutorial.py\" (found attached) takes you from jpg-images to numpy arrays (or pandas dataframes). Hence, it only covers how to load images, transform their color space (for example to grey-scale) and then wrangle them into an array or dataframe. Additionally, it shows how the train-test-split is done. The attached folder \"ExampleImages\" contains the images used in the aforementioned python file.\n",
        "\n",
        "[image_preprocessing_tutorial.py](image_preprocessing_tutorial.py)\n",
        "\n",
        "[ExampleImages.zip](ExampleImages.zip)\n",
        "\n",
        "Note: Please be aware of label-leakage when you pass a dataframe to the train-test-split function that also contains the labels!"
      ],
      "metadata": {
        "id": "UZc9AXSPV3gT"
      }
    }
  ]
}