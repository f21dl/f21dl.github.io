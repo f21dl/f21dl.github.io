{
  "nbformat": 4,
  "nbformat_minor": 0,
  "metadata": {
    "colab": {
      "provenance": []
    },
    "kernelspec": {
      "name": "python3",
      "display_name": "Python 3"
    },
    "language_info": {
      "name": "python"
    }
  },
  "cells": [
    {
      "cell_type": "code",
      "execution_count": null,
      "metadata": {
        "id": "kgb0hpEkhDET"
      },
      "outputs": [],
      "source": []
    },
    {
      "cell_type": "markdown",
      "source": [
        "# Classification using Perceptron and MLP\n",
        "\n",
        "In this tutorial you will learn about:\n",
        "\n",
        "1. Single layer Perceptron (Iris data)\n",
        "\n",
        "2. Activation Functions\n",
        "\n",
        "3. Building an MLP Image classifier using Keras*\n",
        "\n",
        "*Keras is a high-level Deep Learning API that allows you to easily build, train, evaluate and execute all sorts of neural networks. Its documentation (or specification) is available at https://keras.io\n",
        "\n",
        "For more details check:  \n",
        "\n",
        "Chapter 10: “Hands-On Machine Learning with Scikit-Learn, Keras and TensorFlow by Aurélien Géron (O’Reilly). Copyright 2019 Aurélien Géron, 978-1-492-03264-9.” \n",
        "\n",
        "Code from: https://github.com/ageron/handson-ml2/blob/master/10_neural_nets_with_keras.ipynb to an external site.\n",
        "\n",
        "google Collab [Link](https://colab.research.google.com/drive/156DoGatav3nLxjY9sKeuGb8L5FE5KPgY?usp=sharing)"
      ],
      "metadata": {
        "id": "DATIU1snhDjW"
      }
    }
  ]
}