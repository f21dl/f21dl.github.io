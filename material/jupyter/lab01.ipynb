{
  "cells": [
    {
      "cell_type": "markdown",
      "metadata": {
        "id": "6CdEsAMMQ54E"
      },
      "source": [
        "# Getting started with Python\n",
        "In this lab, we will review the basics of Python language and some of the most well-known data science libraries.\n",
        "\n",
        "### Prerequisites:\n",
        "\n",
        "- Installation of [Anaconda](https://www.anaconda.com/products/individual)  (Python 3) and Python environments.\n",
        "\n",
        "Table of content:\n",
        "\n",
        "- <a href='#PythonIntroduction'>Python Introduction</a>\n",
        "    - <a href='#BasicTypes'>Basic Types</a>\n",
        "- <a href='#Libraries'>Libraries</a>\n",
        "    - <a href='#numpy'>numpy</a>\n",
        "    - <a href='#matplotlib'>matplotlib</a>\n",
        "    - <a href='#pandas'>pandas</a>\n",
        "    - <a href=\"#scikit-learn\">scikit-learn</a>\n",
        "\n",
        "\n"
      ]
    },
    {
      "cell_type": "markdown",
      "metadata": {
        "id": "gEFRhW2bQ54G"
      },
      "source": [
        "<a id='PythonIntroduction'></a>\n",
        "## Python Introduction\n",
        "\n",
        "Below are the links to the resources that can help you to learn Python language\n",
        "\n",
        "- <a href='https://www.python.org/doc/'>Python website</a>\n",
        "- <a href='https://docs.python.org/3/tutorial/'>Official tutorial</a>\n",
        "- <a href='https://www.learnpython.org/'>LearnPython.org interactive Python tutorial </a>\n",
        "- <a href='https://www.datacamp.com/courses/intro-to-python-for-data-science'>DataCamp Introduction to Python </a>\n",
        "- <a href='https://cognitiveclass.ai/courses/python-for-data-science'>Python for Data Science</a>\n"
      ]
    },
    {
      "cell_type": "markdown",
      "metadata": {
        "id": "tfkVa-lFQ54H"
      },
      "source": [
        "<a id='BasicTypes'></a>\n",
        "### Basic Types"
      ]
    },
    {
      "cell_type": "markdown",
      "metadata": {
        "id": "7fJPrGNtQ54H"
      },
      "source": [
        "#### Integer"
      ]
    },
    {
      "cell_type": "code",
      "execution_count": 1,
      "metadata": {
        "colab": {
          "base_uri": "https://localhost:8080/"
        },
        "id": "Q-jU4GgcQ54H",
        "outputId": "75f581be-328b-43b4-c74d-2ec5d4141d5b"
      },
      "outputs": [
        {
          "output_type": "execute_result",
          "data": {
            "text/plain": [
              "1"
            ]
          },
          "metadata": {},
          "execution_count": 1
        }
      ],
      "source": [
        "1 # integer"
      ]
    },
    {
      "cell_type": "code",
      "execution_count": 2,
      "metadata": {
        "colab": {
          "base_uri": "https://localhost:8080/"
        },
        "id": "rj_5gxsAQ54I",
        "outputId": "d2815fb3-73dd-4289-a282-76d076a192b2"
      },
      "outputs": [
        {
          "output_type": "execute_result",
          "data": {
            "text/plain": [
              "1"
            ]
          },
          "metadata": {},
          "execution_count": 2
        }
      ],
      "source": [
        "int(1) # same "
      ]
    },
    {
      "cell_type": "markdown",
      "metadata": {
        "id": "BGfnKXeHQ54I"
      },
      "source": [
        "#### Float"
      ]
    },
    {
      "cell_type": "code",
      "execution_count": 3,
      "metadata": {
        "colab": {
          "base_uri": "https://localhost:8080/"
        },
        "id": "2hSuDHx5Q54I",
        "outputId": "28b84305-26b0-47f6-a8a6-89a4a67f863e"
      },
      "outputs": [
        {
          "output_type": "execute_result",
          "data": {
            "text/plain": [
              "1.0"
            ]
          },
          "metadata": {},
          "execution_count": 3
        }
      ],
      "source": [
        "1.0 # float"
      ]
    },
    {
      "cell_type": "code",
      "execution_count": 4,
      "metadata": {
        "colab": {
          "base_uri": "https://localhost:8080/"
        },
        "id": "wjNfdNHzQ54J",
        "outputId": "9048acda-b759-4b14-943f-b468961e3923"
      },
      "outputs": [
        {
          "output_type": "execute_result",
          "data": {
            "text/plain": [
              "1.0"
            ]
          },
          "metadata": {},
          "execution_count": 4
        }
      ],
      "source": [
        "float(1) # same"
      ]
    },
    {
      "cell_type": "markdown",
      "metadata": {
        "id": "-J-SUn32Q54J"
      },
      "source": [
        "Converting string to int"
      ]
    },
    {
      "cell_type": "code",
      "execution_count": 5,
      "metadata": {
        "colab": {
          "base_uri": "https://localhost:8080/"
        },
        "id": "UC7Wn4EmQ54J",
        "outputId": "ea76cd08-40bd-4f3e-99b3-01a5021f79c7"
      },
      "outputs": [
        {
          "output_type": "execute_result",
          "data": {
            "text/plain": [
              "1"
            ]
          },
          "metadata": {},
          "execution_count": 5
        }
      ],
      "source": [
        "int(\"1\") # string to int"
      ]
    },
    {
      "cell_type": "markdown",
      "metadata": {
        "id": "3aBVaKwnQ54J"
      },
      "source": [
        "#### Variable"
      ]
    },
    {
      "cell_type": "code",
      "execution_count": 6,
      "metadata": {
        "colab": {
          "base_uri": "https://localhost:8080/"
        },
        "id": "eR_825pKQ54J",
        "outputId": "c9019dad-32e7-4b48-e8dc-a34bd20665e3"
      },
      "outputs": [
        {
          "output_type": "stream",
          "name": "stdout",
          "text": [
            "3\n"
          ]
        }
      ],
      "source": [
        "a = 1 + 2  #make a variable\n",
        "print(a)"
      ]
    },
    {
      "cell_type": "markdown",
      "metadata": {
        "id": "bhN0bpvHQ54J"
      },
      "source": [
        "#### Range"
      ]
    },
    {
      "cell_type": "code",
      "execution_count": 7,
      "metadata": {
        "colab": {
          "base_uri": "https://localhost:8080/"
        },
        "id": "XziEWISHQ54J",
        "outputId": "98453a5d-32b7-4f75-e373-2bbbdb79187e"
      },
      "outputs": [
        {
          "output_type": "execute_result",
          "data": {
            "text/plain": [
              "range(0, 10)"
            ]
          },
          "metadata": {},
          "execution_count": 7
        }
      ],
      "source": [
        "range(0,10) # 0,1,2,3,4,5,6,7,8,9"
      ]
    },
    {
      "cell_type": "code",
      "execution_count": 8,
      "metadata": {
        "colab": {
          "base_uri": "https://localhost:8080/"
        },
        "id": "HsXMoVgBQ54J",
        "outputId": "efb63b30-db24-4c1b-d93d-f42003ae48d6"
      },
      "outputs": [
        {
          "output_type": "execute_result",
          "data": {
            "text/plain": [
              "range(0, 10)"
            ]
          },
          "metadata": {},
          "execution_count": 8
        }
      ],
      "source": [
        "range(10) # same"
      ]
    },
    {
      "cell_type": "code",
      "execution_count": 9,
      "metadata": {
        "colab": {
          "base_uri": "https://localhost:8080/"
        },
        "id": "oovmyN3UQ54K",
        "outputId": "df2e9c31-eaca-4282-e693-12e1e39b5a91"
      },
      "outputs": [
        {
          "output_type": "stream",
          "name": "stdout",
          "text": [
            "0\n",
            "1\n",
            "2\n",
            "3\n",
            "4\n",
            "5\n",
            "6\n",
            "7\n",
            "8\n",
            "9\n"
          ]
        }
      ],
      "source": [
        "b = range(0,10)\n",
        "for i in b:\n",
        "    print(i)"
      ]
    },
    {
      "cell_type": "markdown",
      "metadata": {
        "id": "O5a8vTBuQ54K"
      },
      "source": [
        "#### List"
      ]
    },
    {
      "cell_type": "code",
      "execution_count": 10,
      "metadata": {
        "colab": {
          "base_uri": "https://localhost:8080/"
        },
        "id": "z4n75opfQ54K",
        "outputId": "47baecb5-bf8a-4d45-f3c3-fc97da02efb7"
      },
      "outputs": [
        {
          "output_type": "stream",
          "name": "stdout",
          "text": [
            "[1, 2, 3]\n"
          ]
        }
      ],
      "source": [
        "L = [1, 2, 3] # list\n",
        "print(L)"
      ]
    },
    {
      "cell_type": "code",
      "execution_count": 11,
      "metadata": {
        "colab": {
          "base_uri": "https://localhost:8080/"
        },
        "id": "8hQo6XrXQ54K",
        "outputId": "49bd27e7-ccb2-4a61-f3bc-830766187da1"
      },
      "outputs": [
        {
          "output_type": "execute_result",
          "data": {
            "text/plain": [
              "(1, 2, 3)"
            ]
          },
          "metadata": {},
          "execution_count": 11
        }
      ],
      "source": [
        "# indexing\n",
        "L[0], L[1], L[2] # first, second, third"
      ]
    },
    {
      "cell_type": "code",
      "execution_count": 12,
      "metadata": {
        "colab": {
          "base_uri": "https://localhost:8080/"
        },
        "id": "HSN55HxAQ54K",
        "outputId": "60c54af2-7b89-4eb1-ab6b-eeac7f211f34"
      },
      "outputs": [
        {
          "output_type": "execute_result",
          "data": {
            "text/plain": [
              "(3, 2, 1)"
            ]
          },
          "metadata": {},
          "execution_count": 12
        }
      ],
      "source": [
        "L[-1], L[-2], L[-3] # last, one before last, two before last"
      ]
    },
    {
      "cell_type": "code",
      "execution_count": 13,
      "metadata": {
        "colab": {
          "base_uri": "https://localhost:8080/"
        },
        "id": "JbbbU9bEQ54K",
        "outputId": "04ff2295-63f2-4b41-e540-17aa43c355a7"
      },
      "outputs": [
        {
          "output_type": "stream",
          "name": "stdout",
          "text": [
            "[4, 2, 3]\n"
          ]
        }
      ],
      "source": [
        "L[0] = 4 # lists are mutable\n",
        "print(L)"
      ]
    },
    {
      "cell_type": "code",
      "execution_count": 14,
      "metadata": {
        "id": "euqSIF47Q54K"
      },
      "outputs": [],
      "source": [
        "#\n",
        "# QUESTION\n",
        "#\n",
        "# Q.1 Change the last element in the list L to 100 and print the element. Type your answer below:\n",
        "\n",
        "\n",
        "\n"
      ]
    },
    {
      "cell_type": "markdown",
      "metadata": {
        "id": "Gz7E_QB1Q54K"
      },
      "source": [
        "#### Tuple"
      ]
    },
    {
      "cell_type": "code",
      "execution_count": 15,
      "metadata": {
        "colab": {
          "base_uri": "https://localhost:8080/"
        },
        "id": "XDXjugVpQ54K",
        "outputId": "fd2deaaf-0756-407a-e46e-bafca1090d72"
      },
      "outputs": [
        {
          "output_type": "stream",
          "name": "stdout",
          "text": [
            "(1, 2, 3)\n"
          ]
        }
      ],
      "source": [
        "T = (1, 2, 3) # tuple\n",
        "print(T)"
      ]
    },
    {
      "cell_type": "code",
      "execution_count": 16,
      "metadata": {
        "colab": {
          "base_uri": "https://localhost:8080/"
        },
        "id": "9CytcQOmQ54K",
        "outputId": "b5a19e7b-7132-4870-f0f8-893de01d263b"
      },
      "outputs": [
        {
          "output_type": "execute_result",
          "data": {
            "text/plain": [
              "2"
            ]
          },
          "metadata": {},
          "execution_count": 16
        }
      ],
      "source": [
        "T[1]"
      ]
    },
    {
      "cell_type": "code",
      "execution_count": 17,
      "metadata": {
        "colab": {
          "base_uri": "https://localhost:8080/"
        },
        "id": "aRKiXlshQ54K",
        "outputId": "18475098-5343-4bd9-e801-99579c1de88e"
      },
      "outputs": [
        {
          "output_type": "stream",
          "name": "stdout",
          "text": [
            "'tuple' object does not support item assignment\n"
          ]
        }
      ],
      "source": [
        "try:\n",
        "    T[0] =4  # not allowed, tuples are immutable\n",
        "except Exception as e:\n",
        "    print(e)\n",
        "#\n",
        "# QUESTION\n",
        "# \n",
        "# Q.2 What happens if you remove try excpet part and just type T[0]=4 ?"
      ]
    },
    {
      "cell_type": "markdown",
      "metadata": {
        "id": "mL-ASs4OQ54K"
      },
      "source": [
        "#### Set"
      ]
    },
    {
      "cell_type": "code",
      "execution_count": 18,
      "metadata": {
        "colab": {
          "base_uri": "https://localhost:8080/"
        },
        "id": "LZwCEDDiQ54K",
        "outputId": "eff504a9-f365-4c78-9a24-fb9efebd8674"
      },
      "outputs": [
        {
          "output_type": "stream",
          "name": "stdout",
          "text": [
            "set()\n"
          ]
        }
      ],
      "source": [
        "S = set()\n",
        "print(S)"
      ]
    },
    {
      "cell_type": "code",
      "execution_count": 19,
      "metadata": {
        "colab": {
          "base_uri": "https://localhost:8080/"
        },
        "id": "HjfEdPlOQ54L",
        "outputId": "3e6be566-b916-4b00-8c80-ffe5893746cb"
      },
      "outputs": [
        {
          "output_type": "stream",
          "name": "stdout",
          "text": [
            "{1}\n"
          ]
        }
      ],
      "source": [
        "S.add(1) # S = {1}\n",
        "print(S)"
      ]
    },
    {
      "cell_type": "code",
      "execution_count": 20,
      "metadata": {
        "colab": {
          "base_uri": "https://localhost:8080/"
        },
        "id": "nb3DGA1-Q54L",
        "outputId": "05102181-cb32-4b01-8737-cd6a7f2c5c7f"
      },
      "outputs": [
        {
          "output_type": "stream",
          "name": "stdout",
          "text": [
            "{1, 2}\n"
          ]
        }
      ],
      "source": [
        "S.add(2) # S = {1}\n",
        "print(S)"
      ]
    },
    {
      "cell_type": "code",
      "execution_count": 21,
      "metadata": {
        "colab": {
          "base_uri": "https://localhost:8080/"
        },
        "id": "I6z1qCiKQ54L",
        "outputId": "16f72ea3-da27-45c3-af2e-04f686ae7a5f"
      },
      "outputs": [
        {
          "output_type": "stream",
          "name": "stdout",
          "text": [
            "{1, 2}\n"
          ]
        }
      ],
      "source": [
        "S.add(1) # S = {1}\n",
        "print(S)"
      ]
    },
    {
      "cell_type": "code",
      "execution_count": 22,
      "metadata": {
        "id": "k0zH3C8cQ54L"
      },
      "outputs": [],
      "source": [
        "#\n",
        "# QUESTION\n",
        "#\n",
        "# Q.3 Add the element 10 to the set S and print the set:\n",
        "\n"
      ]
    },
    {
      "cell_type": "markdown",
      "metadata": {
        "id": "mL0rk9pvQ54L"
      },
      "source": [
        "#### Dictionary"
      ]
    },
    {
      "cell_type": "code",
      "execution_count": 23,
      "metadata": {
        "colab": {
          "base_uri": "https://localhost:8080/"
        },
        "id": "trc2JJgIQ54L",
        "outputId": "f4994d27-6b3c-44b9-f72b-3da6dd925683"
      },
      "outputs": [
        {
          "output_type": "stream",
          "name": "stdout",
          "text": [
            "{'a': 1, 'b': 2}\n"
          ]
        }
      ],
      "source": [
        "D = {'a': 1, 'b': 2}\n",
        "print(D)"
      ]
    },
    {
      "cell_type": "code",
      "execution_count": 24,
      "metadata": {
        "colab": {
          "base_uri": "https://localhost:8080/"
        },
        "id": "EaCtkUiGQ54L",
        "outputId": "d936555c-bdd1-4293-ff9a-3268e418b020"
      },
      "outputs": [
        {
          "output_type": "execute_result",
          "data": {
            "text/plain": [
              "(dict_keys(['a', 'b']), dict_values([1, 2]), dict_items([('a', 1), ('b', 2)]))"
            ]
          },
          "metadata": {},
          "execution_count": 24
        }
      ],
      "source": [
        "#\n",
        "# QUESTION\n",
        "#\n",
        "D.keys(), D.values(), D.items()   # Q.4 Explain the fuctions keys, values & items "
      ]
    },
    {
      "cell_type": "code",
      "execution_count": 25,
      "metadata": {
        "colab": {
          "base_uri": "https://localhost:8080/"
        },
        "id": "vml2yfmBQ54L",
        "outputId": "8338f687-ad0b-4ec7-ca6b-6501d3f5ecd6"
      },
      "outputs": [
        {
          "output_type": "execute_result",
          "data": {
            "text/plain": [
              "1"
            ]
          },
          "metadata": {},
          "execution_count": 25
        }
      ],
      "source": [
        "D['a'] # access by key"
      ]
    },
    {
      "cell_type": "code",
      "execution_count": 26,
      "metadata": {
        "colab": {
          "base_uri": "https://localhost:8080/"
        },
        "id": "wifn-Ju6Q54L",
        "outputId": "dafcfebd-fbe7-4581-9c93-63fc14131342"
      },
      "outputs": [
        {
          "output_type": "stream",
          "name": "stdout",
          "text": [
            "{'b': 2}\n"
          ]
        }
      ],
      "source": [
        "del D['a'] # remove key, value pair\n",
        "print(D)"
      ]
    },
    {
      "cell_type": "markdown",
      "metadata": {
        "id": "R5zHk5TCQ54L"
      },
      "source": [
        "#### String"
      ]
    },
    {
      "cell_type": "code",
      "execution_count": 27,
      "metadata": {
        "colab": {
          "base_uri": "https://localhost:8080/"
        },
        "id": "4aEo9ev5Q54M",
        "outputId": "c7b267f8-2c53-4bdd-84f1-f7eeda747b13"
      },
      "outputs": [
        {
          "output_type": "execute_result",
          "data": {
            "text/plain": [
              "('h', 'e', 'l')"
            ]
          },
          "metadata": {},
          "execution_count": 27
        }
      ],
      "source": [
        "S = \"hello world\"\n",
        "S[0], S[1], S[2] # first, second, third\" #string"
      ]
    },
    {
      "cell_type": "code",
      "execution_count": 28,
      "metadata": {
        "colab": {
          "base_uri": "https://localhost:8080/"
        },
        "id": "jYX30tt1Q54M",
        "outputId": "5a9b8f76-1e82-4882-f5d5-da4ef1f39038"
      },
      "outputs": [
        {
          "output_type": "execute_result",
          "data": {
            "text/plain": [
              "('h', 'e', 'l')"
            ]
          },
          "metadata": {},
          "execution_count": 28
        }
      ],
      "source": [
        "S[0], S[1], S[2] # first, second, third"
      ]
    },
    {
      "cell_type": "code",
      "execution_count": 29,
      "metadata": {
        "colab": {
          "base_uri": "https://localhost:8080/"
        },
        "id": "3wNFY0JDQ54M",
        "outputId": "4f83b294-717c-4929-f26f-c8e7830140ab"
      },
      "outputs": [
        {
          "output_type": "execute_result",
          "data": {
            "text/plain": [
              "('d', 'l', 'r')"
            ]
          },
          "metadata": {},
          "execution_count": 29
        }
      ],
      "source": [
        "S[-1], S[-2], S[-3] # last, one before last, two before last"
      ]
    },
    {
      "cell_type": "code",
      "execution_count": 30,
      "metadata": {
        "colab": {
          "base_uri": "https://localhost:8080/"
        },
        "id": "hCy8zn-YQ54M",
        "outputId": "dbb23c0c-d184-4a2b-e17f-dc2690d392eb"
      },
      "outputs": [
        {
          "output_type": "stream",
          "name": "stdout",
          "text": [
            "'str' object does not support item assignment\n"
          ]
        }
      ],
      "source": [
        "try:\n",
        "    S[0] = 'H' # not allowed, strings are immutable\n",
        "except Exception as e:\n",
        "    print(e)"
      ]
    },
    {
      "cell_type": "code",
      "execution_count": 31,
      "metadata": {
        "colab": {
          "base_uri": "https://localhost:8080/"
        },
        "id": "Ab51VeTVQ54M",
        "outputId": "6370a9e3-111c-485a-b0e9-2adc35f571cb"
      },
      "outputs": [
        {
          "output_type": "stream",
          "name": "stdout",
          "text": [
            "Hello world\n"
          ]
        }
      ],
      "source": [
        "# HOWEVER\n",
        "S = 'H' + S[1:] # reconstruct S with new first character and use indexing [1:]\n",
        "print(S)"
      ]
    },
    {
      "cell_type": "markdown",
      "metadata": {
        "id": "lF6tm3R3Q54M"
      },
      "source": [
        "#### Slicing"
      ]
    },
    {
      "cell_type": "code",
      "execution_count": 32,
      "metadata": {
        "colab": {
          "base_uri": "https://localhost:8080/",
          "height": 35
        },
        "id": "e13uIkTWQ54M",
        "outputId": "cb54e8b2-d289-4e72-8935-c5b0992ebcc6"
      },
      "outputs": [
        {
          "output_type": "execute_result",
          "data": {
            "text/plain": [
              "'Hello worl'"
            ],
            "application/vnd.google.colaboratory.intrinsic+json": {
              "type": "string"
            }
          },
          "metadata": {},
          "execution_count": 32
        }
      ],
      "source": [
        "S[0:10] # from index-0 (included) to index-9 (index-10 excluded)"
      ]
    },
    {
      "cell_type": "code",
      "execution_count": 33,
      "metadata": {
        "colab": {
          "base_uri": "https://localhost:8080/",
          "height": 35
        },
        "id": "HeDkP63VQ54N",
        "outputId": "b67f7622-24e4-4fe2-d02f-0435bd31da21"
      },
      "outputs": [
        {
          "output_type": "execute_result",
          "data": {
            "text/plain": [
              "'Hello worl'"
            ],
            "application/vnd.google.colaboratory.intrinsic+json": {
              "type": "string"
            }
          },
          "metadata": {},
          "execution_count": 33
        }
      ],
      "source": [
        "S[:10] # same, ommiting first index starts from 0 (begining)"
      ]
    },
    {
      "cell_type": "code",
      "execution_count": 34,
      "metadata": {
        "colab": {
          "base_uri": "https://localhost:8080/",
          "height": 35
        },
        "id": "iZi7_TnUQ54N",
        "outputId": "9f3d8ab9-9f01-4f0c-f4e7-7622d261649d"
      },
      "outputs": [
        {
          "output_type": "execute_result",
          "data": {
            "text/plain": [
              "'ello world'"
            ],
            "application/vnd.google.colaboratory.intrinsic+json": {
              "type": "string"
            }
          },
          "metadata": {},
          "execution_count": 34
        }
      ],
      "source": [
        "S[1:] # ommiting last index ends at the end of the array"
      ]
    },
    {
      "cell_type": "code",
      "execution_count": 35,
      "metadata": {
        "colab": {
          "base_uri": "https://localhost:8080/",
          "height": 35
        },
        "id": "TftPHC6JQ54N",
        "outputId": "07143417-84cc-4b9b-b6e8-9e55922b74db"
      },
      "outputs": [
        {
          "output_type": "execute_result",
          "data": {
            "text/plain": [
              "'Hlowr'"
            ],
            "application/vnd.google.colaboratory.intrinsic+json": {
              "type": "string"
            }
          },
          "metadata": {},
          "execution_count": 35
        }
      ],
      "source": [
        "S[0:10:2] # 0 to 9 with step size 2 i.e. even indices 0,2,4,6,8"
      ]
    },
    {
      "cell_type": "code",
      "execution_count": 36,
      "metadata": {
        "id": "ncPZCXCeQ54N"
      },
      "outputs": [],
      "source": [
        "#\n",
        "# QUESTION\n",
        "#\n",
        "# Q.5 Print the fisrt word from the string S. Type your code below \n",
        "\n"
      ]
    },
    {
      "cell_type": "markdown",
      "metadata": {
        "id": "VPtMbxr1Q54N"
      },
      "source": [
        "#### List Comprehension"
      ]
    },
    {
      "cell_type": "code",
      "execution_count": 37,
      "metadata": {
        "colab": {
          "base_uri": "https://localhost:8080/"
        },
        "id": "jwtb973vQ54N",
        "outputId": "98d58167-4f19-4e6d-c55b-5b6f76d38acc"
      },
      "outputs": [
        {
          "output_type": "stream",
          "name": "stdout",
          "text": [
            "[1, 2, 3]\n"
          ]
        }
      ],
      "source": [
        "L1 = [1,2,3]\n",
        "\n",
        "print(L1)"
      ]
    },
    {
      "cell_type": "code",
      "execution_count": 38,
      "metadata": {
        "colab": {
          "base_uri": "https://localhost:8080/"
        },
        "id": "PQCbOUIuQ54N",
        "outputId": "9c63ffe2-cb18-4e54-9dee-b60a9509e1dc"
      },
      "outputs": [
        {
          "output_type": "stream",
          "name": "stdout",
          "text": [
            "[2, 4, 6]\n"
          ]
        }
      ],
      "source": [
        "# L2 contains double the value for each element in L1\n",
        "\n",
        "L2 = [element*2 for element in L1]\n",
        "print(L2)"
      ]
    },
    {
      "cell_type": "markdown",
      "metadata": {
        "id": "onPdRcwVQ54N"
      },
      "source": [
        "<a id=\"Libraries\"></a>\n",
        "## Libraries\n",
        "\n",
        "<a id=\"numpy\"></a>\n",
        "### numpy\n",
        "Mostly can be used for  **arrays, vectors and numerical computations.**\n",
        "\n",
        "\n",
        "<a href=\"https://numpy.org/\">Official Website</a>\n",
        "\n",
        "\n",
        "**PIP**\n",
        "\n",
        "If you use pip, you can install it with:\n",
        "\n",
        "`pip install numpy`"
      ]
    },
    {
      "cell_type": "code",
      "execution_count": null,
      "metadata": {
        "id": "KgYk4ePgQ54N"
      },
      "outputs": [],
      "source": [
        "!pip install numpy"
      ]
    },
    {
      "cell_type": "code",
      "execution_count": null,
      "metadata": {
        "id": "H9WqfNeJQ54N"
      },
      "outputs": [],
      "source": [
        "import numpy as np"
      ]
    },
    {
      "cell_type": "code",
      "execution_count": null,
      "metadata": {
        "id": "R10H8KF4Q54N"
      },
      "outputs": [],
      "source": [
        "a = np.zeros(10)\n",
        "print('a=\\n', a)"
      ]
    },
    {
      "cell_type": "code",
      "execution_count": null,
      "metadata": {
        "id": "LVm517p2Q54N"
      },
      "outputs": [],
      "source": [
        "b = np.ones(10)\n",
        "print('b=\\n', b)"
      ]
    },
    {
      "cell_type": "code",
      "execution_count": null,
      "metadata": {
        "id": "bwEyNxTpQ54N"
      },
      "outputs": [],
      "source": [
        "print('a-b=', a-b)"
      ]
    },
    {
      "cell_type": "code",
      "execution_count": null,
      "metadata": {
        "id": "wWD3TOhRQ54N"
      },
      "outputs": [],
      "source": [
        "c = np.zeros((2,2))\n",
        "print(c)"
      ]
    },
    {
      "cell_type": "code",
      "execution_count": null,
      "metadata": {
        "id": "zOodDhfdQ54O"
      },
      "outputs": [],
      "source": [
        "c[0,0] = 1; c[0,1] = 2; c[1,0] = 3; c[1,1] = 4\n",
        "print('c=', c)"
      ]
    },
    {
      "cell_type": "code",
      "execution_count": null,
      "metadata": {
        "id": "qrS4pSQKQ54O"
      },
      "outputs": [],
      "source": [
        "d = np.array([[1,2], [3,4]]) # construct from python nested list\n",
        "print('d\\n', d)"
      ]
    },
    {
      "cell_type": "code",
      "execution_count": null,
      "metadata": {
        "id": "tEgM5hIvQ54O"
      },
      "outputs": [],
      "source": [
        "print('c == d\\n', c == d)"
      ]
    },
    {
      "cell_type": "code",
      "execution_count": null,
      "metadata": {
        "id": "e_fX-ZS-Q54O"
      },
      "outputs": [],
      "source": [
        "print('(c==d).sum()\\n', (c==d).sum())"
      ]
    },
    {
      "cell_type": "code",
      "execution_count": null,
      "metadata": {
        "id": "b_RiDoDpQ54O"
      },
      "outputs": [],
      "source": [
        "arr = np.zeros((3,5)) # 3 rows , 2 columns "
      ]
    },
    {
      "cell_type": "code",
      "execution_count": null,
      "metadata": {
        "id": "vGJuTFskQ54O"
      },
      "outputs": [],
      "source": [
        "print(arr)"
      ]
    },
    {
      "cell_type": "code",
      "execution_count": null,
      "metadata": {
        "id": "UNHZMLkWQ54O"
      },
      "outputs": [],
      "source": [
        "arr[0:2]=100   # fill in all elements from row 0 to row 1 with '100'\n",
        "print(arr)"
      ]
    },
    {
      "cell_type": "code",
      "execution_count": null,
      "metadata": {
        "id": "DBZoJfgkQ54O"
      },
      "outputs": [],
      "source": [
        "arr[:,4:]= 5   # fill in colums starting at index 4 with '5'\n",
        "print(arr)"
      ]
    },
    {
      "cell_type": "code",
      "execution_count": null,
      "metadata": {
        "id": "JE5zM7anQ54O"
      },
      "outputs": [],
      "source": [
        "print(arr[:2,1:])      # print first 2 rows and colums from 1 to end "
      ]
    },
    {
      "cell_type": "code",
      "execution_count": null,
      "metadata": {
        "id": "bLrsIELOQ54O"
      },
      "outputs": [],
      "source": [
        "#\n",
        "# QUESTION\n",
        "#\n",
        "# Q.6 print the first row in the array 'arr'    \n",
        "\n"
      ]
    },
    {
      "cell_type": "code",
      "execution_count": null,
      "metadata": {
        "id": "QOnjfOpxQ54O"
      },
      "outputs": [],
      "source": [
        "#\n",
        "# QUESTION\n",
        "#\n",
        "# Q.7 print the last column in the array 'arr'\n",
        "\n"
      ]
    },
    {
      "cell_type": "code",
      "execution_count": null,
      "metadata": {
        "id": "ahGaov1MQ54O"
      },
      "outputs": [],
      "source": [
        "arr = np.random.random((2,3)) # random assignement to elements of array \n",
        "print(arr)"
      ]
    },
    {
      "cell_type": "code",
      "execution_count": null,
      "metadata": {
        "id": "pQTaldPOQ54O"
      },
      "outputs": [],
      "source": [
        "arr[:,1]     # Q.8 What does this function print?"
      ]
    },
    {
      "cell_type": "markdown",
      "metadata": {
        "id": "a89k049sQ54O"
      },
      "source": [
        "<a id=\"matplotlib\"></a>\n",
        "## matplotlib\n",
        "Matplotlib is a comprehensive library for creating static, animated, and interactive visualizations\n",
        "\n",
        "<a href=\"https://matplotlib.org/\">Official Website</a>\n",
        "\n",
        "<a href=\"https://matplotlib.org/users/installing.html\">Installation Guide</a>\n",
        "\n",
        "**PIP**\n",
        "\n",
        "If you use pip, you can install it with:\n",
        "\n",
        "`pip install matplotlib`"
      ]
    },
    {
      "cell_type": "code",
      "execution_count": null,
      "metadata": {
        "id": "zDCRvMoeQ54O"
      },
      "outputs": [],
      "source": [
        "#%matplotlib inline #This command is to plot graphs within the notebook\n",
        "import matplotlib.pylab as plt"
      ]
    },
    {
      "cell_type": "code",
      "execution_count": null,
      "metadata": {
        "id": "F4zdk-qoQ54O"
      },
      "outputs": [],
      "source": [
        "plt.plot(range(10), range(10))\n",
        "plt.plot(range(10), range(1,11), c='green', linestyle=':')\n",
        "plt.show()"
      ]
    },
    {
      "cell_type": "code",
      "execution_count": null,
      "metadata": {
        "id": "pIzgfbctQ54O"
      },
      "outputs": [],
      "source": [
        "#\n",
        "# QUESTION\n",
        "#\n",
        "# Q.9 look up the the functions plot(), bar(), scatter() & hist() \n",
        "fig, ax = plt.subplots(1,2, figsize=(12,4))\n",
        "ax[0].scatter(range(10), range(10))\n",
        "ax[0].scatter(range(10), range(1,11), c='red', marker='x')\n",
        "\n",
        "ax[1].bar(range(10), range(10), 0.5, alpha=0.5) # alpha for transparency\n",
        "ax[1].bar(np.arange(10)-0.3, np.arange(0,5,0.5), 0.5, alpha=0.5)\n",
        "plt.show()"
      ]
    },
    {
      "cell_type": "markdown",
      "metadata": {
        "id": "9I0knfyuQ54P"
      },
      "source": [
        "<a id=\"pandas\"></a>\n",
        "## pandas\n",
        "pandas is a fast, powerful, flexible and easy to use open source data analysis and manipulation tool\n",
        "\n",
        "<a href=\"https://pandas.pydata.org/\">Official Website</a>\n",
        "\n",
        "<a href=\"https://pandas.pydata.org/getting_started.html\">Installation Guide</a>\n",
        "\n",
        "**PIP**\n",
        "\n",
        "If you use pip, you can install it with:\n",
        "\n",
        "`pip install pandas`"
      ]
    },
    {
      "cell_type": "code",
      "execution_count": null,
      "metadata": {
        "id": "PBFBM68qQ54P"
      },
      "outputs": [],
      "source": [
        "import pandas as pd\n",
        "\n",
        "# from dictionary\n",
        "d = {1: [1,2,3], 2: [4,5,6]}\n",
        "\n",
        "# keys: data index\n",
        "# values: row values\n",
        "df1 = pd.DataFrame.from_dict(d, orient='index')  # df1 is your pandas frame which contains your data \n",
        "print('index oriented')\n",
        "display(df1.head())\n"
      ]
    },
    {
      "cell_type": "code",
      "execution_count": null,
      "metadata": {
        "id": "lv2eZC-YQ54P"
      },
      "outputs": [],
      "source": [
        "# keys: columns\n",
        "# values: column values\n",
        "df2 = pd.DataFrame.from_dict(d, orient='columns') \n",
        "print('columns oriented')\n",
        "display(df2.head())"
      ]
    },
    {
      "cell_type": "code",
      "execution_count": null,
      "metadata": {
        "id": "UmEUKjNjQ54P"
      },
      "outputs": [],
      "source": [
        "# from comma-seperated-value (cvs)\n",
        "import io # to create a virtual file (String buffer)\n",
        "\n",
        "csv = \"\"\"width,height\n",
        "10,20\n",
        "3,5\n",
        "30,40\n",
        "11,12\n",
        "1.5,2.5\"\"\"\n",
        "\n",
        "df3 = pd.read_csv(io.StringIO(csv)) # df3 data frame records width and height for  4 instances\n",
        "print('df3')\n",
        "display(df3.head())"
      ]
    },
    {
      "cell_type": "code",
      "execution_count": null,
      "metadata": {
        "id": "ODHxv7hfQ54P"
      },
      "outputs": [],
      "source": [
        "# creating new column\n",
        "# method 1\n",
        "df3['area 1'] = df3['width'] * df3['height']\n",
        "\n",
        "def func(row):\n",
        "    return row.width * row.height\n",
        "# method 2\n",
        "df3['area 2'] = df3.apply(func, axis=1)\n",
        "\n",
        "print('df3 modified')\n",
        "display(df3.head())\n",
        "#\n",
        "# QUESTION\n",
        "#\n",
        "# Q.10 Create a new colums with a categorical value S, M, L & XL \n"
      ]
    },
    {
      "cell_type": "code",
      "execution_count": null,
      "metadata": {
        "id": "V4VQ2OSFQ54P"
      },
      "outputs": [],
      "source": [
        "display(df3.describe()) # display full statistical summary of the records including mean, std, min, max,...etc"
      ]
    },
    {
      "cell_type": "code",
      "execution_count": null,
      "metadata": {
        "id": "eQIFdNoHQ54P"
      },
      "outputs": [],
      "source": [
        "df3.plot(kind='bar')"
      ]
    },
    {
      "cell_type": "markdown",
      "metadata": {
        "id": "2EyAhEctQ54P"
      },
      "source": [
        "<a id=\"scikit-learn\"></a>\n",
        "## scikit-learn\n",
        "Machine Learning in Python. Simple and efficient tools for predictive data analysis\n",
        "\n",
        "<a href=\"https://scikit-learn.org/stable/\">Official Website</a>\n",
        "\n",
        "<a href=\"https://scikit-learn.org/stable/install.html\">Installation Guide</a>\n",
        "\n",
        "**PIP**\n",
        "\n",
        "If you use pip, you can install it with:\n",
        "\n",
        "`pip install sklearn`"
      ]
    },
    {
      "cell_type": "code",
      "execution_count": null,
      "metadata": {
        "id": "w3CwfUHxQ54P"
      },
      "outputs": [],
      "source": [
        "# some models for classification and regression\n",
        "from sklearn.linear_model import LogisticRegression, LinearRegression\n",
        "from sklearn.neighbors import KNeighborsClassifier, KNeighborsRegressor\n",
        "from sklearn.tree import DecisionTreeClassifier, DecisionTreeRegressor\n",
        "\n",
        "# model selection tools\n",
        "from sklearn.model_selection import KFold, train_test_split, GridSearchCV\n",
        "\n",
        "# metrics\n",
        "from sklearn.metrics import accuracy_score, roc_auc_score, f1_score, precision_score, recall_score, confusion_matrix"
      ]
    },
    {
      "cell_type": "code",
      "execution_count": null,
      "metadata": {
        "id": "kHRejYHbQ54P"
      },
      "outputs": [],
      "source": []
    }
  ],
  "metadata": {
    "celltoolbar": "Raw Cell Format",
    "kernelspec": {
      "display_name": "Python 3",
      "language": "python",
      "name": "python3"
    },
    "language_info": {
      "codemirror_mode": {
        "name": "ipython",
        "version": 3
      },
      "file_extension": ".py",
      "mimetype": "text/x-python",
      "name": "python",
      "nbconvert_exporter": "python",
      "pygments_lexer": "ipython3",
      "version": "3.6.8"
    },
    "colab": {
      "provenance": []
    }
  },
  "nbformat": 4,
  "nbformat_minor": 0
}