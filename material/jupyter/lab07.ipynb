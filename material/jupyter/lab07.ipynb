{
  "nbformat": 4,
  "nbformat_minor": 0,
  "metadata": {
    "colab": {
      "provenance": []
    },
    "kernelspec": {
      "name": "python3",
      "display_name": "Python 3"
    },
    "language_info": {
      "name": "python"
    }
  },
  "cells": [
    {
      "cell_type": "markdown",
      "source": [
        "## Clustering \n",
        "\n",
        "In this tutorial, you will learn about  clustering (unsupervised learning)\n",
        "You will  use Scikit-Learn functions to :\n",
        "* Run and explore the  K-Means clustering algorithms\n",
        "* Evaluate the clustering results \n",
        "* Find the optimal number of clusters\n",
        "* Explore limitations  of K-Means\n",
        "\n",
        "Reference: Chapter 9 [ Hands-On Machine Learning, Aurelien Geron ]\n",
        "\n",
        "Chapter 9. Unsupervised Learning Techniques [Link](https://github.com/ageron/handson-ml2/blob/master/09_unsupervised_learning.ipynb)\n",
        "\n"
      ],
      "metadata": {
        "id": "mHCUsrKof7HB"
      }
    }
  ]
}